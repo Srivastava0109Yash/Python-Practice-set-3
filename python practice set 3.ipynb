{
 "cells": [
  {
   "cell_type": "markdown",
   "id": "6afc22f9",
   "metadata": {},
   "source": [
    "### Q1. Create a dictionary called fruits with the following key-value pairs:\n",
    "\"apple\": 0.75\n",
    "\"banana\": 1.25\n",
    "\"orange\": 0.90\n",
    "Then, print out the price of a banana."
   ]
  },
  {
   "cell_type": "code",
   "execution_count": 6,
   "id": "75941961",
   "metadata": {},
   "outputs": [
    {
     "name": "stdout",
     "output_type": "stream",
     "text": [
      "price of a banana:  1.25\n"
     ]
    }
   ],
   "source": [
    "fruits={\"apple\": 0.75, \"banana\": 1.25, \"orange\": 0.90}\n",
    "\n",
    "print(\"price of a banana: \",fruits['banana'])"
   ]
  },
  {
   "cell_type": "markdown",
   "id": "b03d5bad",
   "metadata": {},
   "source": [
    "### Q2. Create an empty dictionary called ages. Add the following key-value pairs to the dictionary:\n",
    "\"Alice\": 30\n",
    "\"Bob\": 25\n",
    "\"Charlie\": 35\n",
    "Then, print out the age of Charlie."
   ]
  },
  {
   "cell_type": "code",
   "execution_count": 8,
   "id": "ddfa1eec",
   "metadata": {},
   "outputs": [
    {
     "data": {
      "text/plain": [
       "{'Alice': 30, 'Bob': 25, 'Charlie': 35}"
      ]
     },
     "execution_count": 8,
     "metadata": {},
     "output_type": "execute_result"
    }
   ],
   "source": [
    "ages = {}\n",
    "\n",
    "ages[\"Alice\"] = 30\n",
    "ages[\"Bob\"] = 25\n",
    "ages[\"Charlie\"] = 35\n",
    "\n",
    "ages"
   ]
  },
  {
   "cell_type": "code",
   "execution_count": 9,
   "id": "0cb74b44",
   "metadata": {},
   "outputs": [
    {
     "name": "stdout",
     "output_type": "stream",
     "text": [
      "35\n"
     ]
    }
   ],
   "source": [
    "print(ages['Charlie'])"
   ]
  },
  {
   "cell_type": "markdown",
   "id": "0ce64213",
   "metadata": {},
   "source": [
    "### Q3. Write a function called word_count(text) that takes a string as input and returns a dictionary where each key is a word in the text and its value is the number of times that word appears in the text. "
   ]
  },
  {
   "cell_type": "code",
   "execution_count": 13,
   "id": "0a97b16d",
   "metadata": {},
   "outputs": [],
   "source": [
    "def word_count(text):\n",
    "    word=text.split()\n",
    "    \n",
    "    counts={}\n",
    "    \n",
    "    for i in word:\n",
    "        \n",
    "        if i in counts:\n",
    "            counts[i]+=1\n",
    "            \n",
    "        else:\n",
    "            counts[i]=1\n",
    "    return counts"
   ]
  },
  {
   "cell_type": "code",
   "execution_count": 14,
   "id": "b028bef8",
   "metadata": {},
   "outputs": [
    {
     "name": "stdout",
     "output_type": "stream",
     "text": [
      "hello world hello\n"
     ]
    },
    {
     "data": {
      "text/plain": [
       "{'hello': 2, 'world': 1}"
      ]
     },
     "execution_count": 14,
     "metadata": {},
     "output_type": "execute_result"
    }
   ],
   "source": [
    "text=input()\n",
    "word_count(text)"
   ]
  },
  {
   "cell_type": "markdown",
   "id": "9e88dc9f",
   "metadata": {},
   "source": [
    "### Q4. Create a dictionary called phone_book with the following key-value pairs:\n",
    "\"Alice\": \"555-1234\"\n",
    "\"Bob\": \"555-5678\"\n",
    "\"Charlie\": \"555-9012\"\n",
    "\n",
    "Then, prompt the user to enter a name and print out the corresponding phone number. If the name is not\n",
    "in the phone book, print out a message saying that the name was not found."
   ]
  },
  {
   "cell_type": "code",
   "execution_count": 2,
   "id": "183230e5",
   "metadata": {},
   "outputs": [
    {
     "name": "stdout",
     "output_type": "stream",
     "text": [
      "Enter the name: Bob\n",
      "phone number:  555-5678\n"
     ]
    }
   ],
   "source": [
    "phone_book={\"Alice\": \"555-1234\",\"Bob\": \"555-5678\",\"Charlie\": \"555-9012\"}\n",
    "\n",
    "name=input(\"Enter the name: \")\n",
    "\n",
    "if name in phone_book:\n",
    "    print(\"phone number: \",phone_book[name])\n",
    "    \n",
    "else:\n",
    "    print(\" Name was not found !\")"
   ]
  },
  {
   "cell_type": "markdown",
   "id": "ed145672",
   "metadata": {},
   "source": [
    "### Q5. Write a program that prompts the user to enter a number between 1 and 10. If the number is less than 5, print out \"Too low!\", otherwise print out \"Too high!\"."
   ]
  },
  {
   "cell_type": "code",
   "execution_count": 3,
   "id": "9bcf432a",
   "metadata": {},
   "outputs": [
    {
     "name": "stdout",
     "output_type": "stream",
     "text": [
      "Enter a number between 1 to 10: 3\n",
      "Too low!\n"
     ]
    }
   ],
   "source": [
    "n=int(input(\"Enter a number between 1 to 10: \"))\n",
    "\n",
    "if n<5:\n",
    "    print(\"Too low!\")\n",
    "else:\n",
    "    print(\"Too high!\")\n",
    "    "
   ]
  },
  {
   "cell_type": "markdown",
   "id": "2354e68f",
   "metadata": {},
   "source": [
    "### Q6. Write a program that prompts the user to enter a password. If the password is \"password123\", print out \"Access granted\", otherwise print out \"Access denied\"."
   ]
  },
  {
   "cell_type": "code",
   "execution_count": 4,
   "id": "4fa8e0f3",
   "metadata": {},
   "outputs": [
    {
     "name": "stdout",
     "output_type": "stream",
     "text": [
      "Enter the password: password123\n",
      "Access granted\n"
     ]
    }
   ],
   "source": [
    "s=input(\"Enter the password: \")\n",
    "\n",
    "if s==\"password123\":\n",
    "    print(\"Access granted\")\n",
    "\n",
    "else:\n",
    "    print(\"Access denied\")"
   ]
  },
  {
   "cell_type": "markdown",
   "id": "a9df2215",
   "metadata": {},
   "source": [
    "### Q7. Write a program that prompts the user to enter a positive integer. Then, use a loop to print out all the odd numbers from 1 to that integer."
   ]
  },
  {
   "cell_type": "code",
   "execution_count": 7,
   "id": "12221617",
   "metadata": {},
   "outputs": [
    {
     "name": "stdout",
     "output_type": "stream",
     "text": [
      "Enter a number: 23\n",
      "All odd numbers from 1 to 23 are: 1 3 5 7 9 11 13 15 17 19 21 23 "
     ]
    }
   ],
   "source": [
    "n=int(input(\"Enter a number: \"))\n",
    "print(f\"All odd numbers from 1 to {n} are: \",end=\"\") \n",
    "for i in range(1,n+1):\n",
    "    if i%2!=0:\n",
    "        print(i,end=\" \")"
   ]
  },
  {
   "cell_type": "markdown",
   "id": "c864acdb",
   "metadata": {},
   "source": [
    "### Q8. Write a program that generates a random number between 1 and 100 and then prompts the user to guess the number. If the user's guess is too low, print out \"Too low!\", if the guess is too high, print out \"Too high!\", and if the guess is correct, print out \"You win!\"."
   ]
  },
  {
   "cell_type": "code",
   "execution_count": 14,
   "id": "a3c8ebef",
   "metadata": {},
   "outputs": [
    {
     "name": "stdout",
     "output_type": "stream",
     "text": [
      "Enter a number:56\n",
      "Too high!\n"
     ]
    }
   ],
   "source": [
    "import random\n",
    "n=int(input(\"Enter a number:\"))\n",
    "\n",
    "m=random.randint(1,100)\n",
    "\n",
    "if n<m:\n",
    "    print(\"Too low!\")\n",
    "\n",
    "elif n==m:\n",
    "    print(\"You win!\")\n",
    "    \n",
    "else:\n",
    "    print(\"Too high!\")"
   ]
  },
  {
   "cell_type": "markdown",
   "id": "449ecbf8",
   "metadata": {},
   "source": [
    "### Q9. Write a program that generates a random number between 1 and 10 and then prompts the user to guess the number. The user has three attempts to guess the number. If the user guesses correctly within three attempts, print out \"You win!\", otherwise print out \"You lose!\"."
   ]
  },
  {
   "cell_type": "code",
   "execution_count": 22,
   "id": "329b0c61",
   "metadata": {},
   "outputs": [
    {
     "name": "stdout",
     "output_type": "stream",
     "text": [
      "Guess the number between 1 and 10: 3\n",
      "Incorrect! You have 2 attempts remaining\n",
      "Guess the number between 1 and 10: 4\n",
      "Incorrect! You have 1 attempts remaining\n",
      "Guess the number between 1 and 10: 6\n",
      "You Lose! The number was 1\n"
     ]
    }
   ],
   "source": [
    "import random\n",
    "\n",
    "m=random.randint(1,10)\n",
    "\n",
    "attempts=3\n",
    "\n",
    "while attempts>0:\n",
    "    \n",
    "    guess = int(input(\"Guess the number between 1 and 10: \"))\n",
    "    \n",
    "    if guess==m:\n",
    "        print(\"You win!\")\n",
    "        \n",
    "    attempts-=1\n",
    "    \n",
    "    \n",
    "    if attempts==0:\n",
    "        print(f\"You Lose! The number was {m}\")\n",
    "        \n",
    "    else:\n",
    "        print(f\"Incorrect! You have {attempts} attempts remaining\")\n"
   ]
  },
  {
   "cell_type": "markdown",
   "id": "d77e8cf9",
   "metadata": {},
   "source": [
    "### Q10. Write a program that prompts the user to enter their age and then prints out whether they are a child (age 0-12), a teenager (age 13-19), an adult (age 20-59), or a senior (age 60+)"
   ]
  },
  {
   "cell_type": "code",
   "execution_count": 25,
   "id": "8fa20c27",
   "metadata": {},
   "outputs": [
    {
     "name": "stdout",
     "output_type": "stream",
     "text": [
      "Enter your age: 21\n",
      "You are an Adult\n"
     ]
    }
   ],
   "source": [
    "age= int(input(\"Enter your age: \"))\n",
    "\n",
    "if age>=0 and age<=12:\n",
    "    print(\"You are a Child\")\n",
    "    \n",
    "elif age>12 and age<=19:\n",
    "    print(\"You are a Teenager\")\n",
    "    \n",
    "elif age>19 and age<=59:\n",
    "    print(\"You are an Adult\")\n",
    "    \n",
    "else:\n",
    "    print(\"You are a Senior Citizen\")"
   ]
  },
  {
   "cell_type": "code",
   "execution_count": null,
   "id": "5e377e0a",
   "metadata": {},
   "outputs": [],
   "source": []
  }
 ],
 "metadata": {
  "kernelspec": {
   "display_name": "Python 3 (ipykernel)",
   "language": "python",
   "name": "python3"
  },
  "language_info": {
   "codemirror_mode": {
    "name": "ipython",
    "version": 3
   },
   "file_extension": ".py",
   "mimetype": "text/x-python",
   "name": "python",
   "nbconvert_exporter": "python",
   "pygments_lexer": "ipython3",
   "version": "3.9.7"
  }
 },
 "nbformat": 4,
 "nbformat_minor": 5
}
